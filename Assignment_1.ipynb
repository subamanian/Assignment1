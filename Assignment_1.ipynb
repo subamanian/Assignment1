{
  "nbformat": 4,
  "nbformat_minor": 0,
  "metadata": {
    "colab": {
      "name": "Assignment_1.ipynb",
      "provenance": [],
      "authorship_tag": "ABX9TyMkY8ON7E7469c/zg5UrNef",
      "include_colab_link": true
    },
    "kernelspec": {
      "name": "python3",
      "display_name": "Python 3"
    },
    "language_info": {
      "name": "python"
    }
  },
  "cells": [
    {
      "cell_type": "markdown",
      "metadata": {
        "id": "view-in-github",
        "colab_type": "text"
      },
      "source": [
        "<a href=\"https://colab.research.google.com/github/subamanian/Assignment1/blob/main/Assignment_1.ipynb\" target=\"_parent\"><img src=\"https://colab.research.google.com/assets/colab-badge.svg\" alt=\"Open In Colab\"/></a>"
      ]
    },
    {
      "cell_type": "code",
      "execution_count": null,
      "metadata": {
        "id": "NkCdbYEcXCUE"
      },
      "outputs": [],
      "source": [
        "[10:02 am, 24/01/2022] Parthiben: class calculation():\n",
        "    def add(self,a,b):\n",
        "        return a+b\n",
        "    def mul(self):\n",
        "        return a*b\n",
        "    def div(self,a,b):\n",
        "        return a/b\n",
        "    def sub(self,a,b):\n",
        "        return a-b\n",
        "    def square(self,a,b):\n",
        "        return a**b\n",
        "    def squareroot(self,a):\n",
        "        return a**0.5\n",
        "    def fraction(self,a):\n",
        "        return 1/a\n",
        "myproject=calculation()\n",
        "def option():\n",
        "    print(\"1. Add\")\n",
        "    print(\"2. Subtraction\")\n",
        "    print(\"3. Multiplication\")\n",
        "    print(\"4. Division\")\n",
        "    print(\"5. Square\")\n",
        "    print(\"6. Squareroot\")\n",
        "    print(\"7. fraction\")\n",
        "    print(\"0.To Exit\")\n",
        "    choice=int(input(\"Enter choice: \"))\n",
        "\n",
        "    if choice==1:\n",
        "        a=float(input(\"Enter first number: \"))\n",
        "        b=float(input(\"Enter second number: \"))\n",
        "        print(\"Result: \",round(myproject.add(a,b),2))\n",
        "    elif choice==2:\n",
        "        a=float(input(\"Enter first number: \"))\n",
        "        b=float(input(\"Enter second number: \"))\n",
        "        print(\"Result: \",round(myproject.sub(a,b),2))\n",
        "    elif choice==3:\n",
        "        a=float(input(\"Enter first number: \"))\n",
        "        b=float(input(\"Enter second number: \"))\n",
        "        print(\"Result: \",round(myproject.mul(a,b),3))\n",
        "    elif choice==4:\n",
        "        a=float(input(\"Enter first number: \"))\n",
        "        b=float(input(\"Enter second number: \"))\n",
        "        print(\"Result: \",round(myproject.div(a,b),2))\n",
        "    elif choice==5:\n",
        "        a=float(input(\"Enter first number: \"))\n",
        "        b=float(input(\"Enter second number: \"))\n",
        "        print(\"Result: \",round(myproject.square(a,b),4))\n",
        "    elif choice==6:\n",
        "        a=float(input(\"Enter first number: \"))\n",
        "        print(\"Result: \",(myproject.squareroot(a)))\n",
        "    elif choice==7:\n",
        "        a=float(input(\"Enter first number: \"))\n",
        "        print(\"Result: \",(myproject.fraction(a)))\n",
        "    elif choice==0:\n",
        "        raise Exception(\"Exited from the calculation\")\n",
        "    x = input(\"Are you gonna do the next calculation (yes/no): \")\n",
        "    if x == \"no\":\n",
        "        raise Exception(\"sorry\")\n",
        "    else:\n",
        "        option()\n",
        "print()\n",
        "option()"
      ]
    }
  ]
}